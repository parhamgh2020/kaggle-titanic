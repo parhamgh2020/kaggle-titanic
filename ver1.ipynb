{
 "cells": [
  {
   "cell_type": "code",
   "execution_count": 6,
   "metadata": {},
   "outputs": [],
   "source": [
    "from pandas import concat, DataFrame, read_csv ,get_dummies\n",
    "import matplotlib.pyplot as plt\n",
    "\n",
    "from sklearn.neighbors import KNeighborsClassifier\n",
    "from sklearn.svm import SVC\n",
    "from sklearn.linear_model import LogisticRegression\n",
    "from sklearn.ensemble import RandomForestClassifier\n",
    "from sklearn.tree import DecisionTreeClassifier\n",
    "\n",
    "from sklearn.experimental import enable_iterative_imputer\n",
    "from sklearn.impute import IterativeImputer, KNNImputer\n",
    "from sklearn.preprocessing import scale"
   ]
  },
  {
   "cell_type": "code",
   "execution_count": 7,
   "metadata": {},
   "outputs": [],
   "source": [
    "train = read_csv('./data/train.csv')\n",
    "test= read_csv('./data/test.csv')\n",
    "x_train = train.drop(['Survived', 'PassengerId'], axis=1)\n",
    "y_train = train.Survived\n",
    "PassengerId = test.PassengerId.to_numpy()\n",
    "x_test = test.drop(['PassengerId'], axis=1)\n",
    "data = concat([x_train, x_test])"
   ]
  },
  {
   "cell_type": "code",
   "execution_count": 8,
   "metadata": {},
   "outputs": [
    {
     "name": "stdout",
     "output_type": "stream",
     "text": [
      "<class 'pandas.core.frame.DataFrame'>\n",
      "Int64Index: 1309 entries, 0 to 417\n",
      "Data columns (total 10 columns):\n",
      " #   Column    Non-Null Count  Dtype  \n",
      "---  ------    --------------  -----  \n",
      " 0   Pclass    1309 non-null   int64  \n",
      " 1   Name      1309 non-null   object \n",
      " 2   Sex       1309 non-null   object \n",
      " 3   Age       1046 non-null   float64\n",
      " 4   SibSp     1309 non-null   int64  \n",
      " 5   Parch     1309 non-null   int64  \n",
      " 6   Ticket    1309 non-null   object \n",
      " 7   Fare      1308 non-null   float64\n",
      " 8   Cabin     295 non-null    object \n",
      " 9   Embarked  1307 non-null   object \n",
      "dtypes: float64(2), int64(3), object(5)\n",
      "memory usage: 112.5+ KB\n"
     ]
    }
   ],
   "source": [
    "data.info()"
   ]
  },
  {
   "cell_type": "markdown",
   "metadata": {},
   "source": [
    "# handling Name column"
   ]
  },
  {
   "cell_type": "code",
   "execution_count": 128,
   "metadata": {},
   "outputs": [],
   "source": [
    "def title_adjusting(title):\n",
    "    if title in ['Mr', 'Miss', 'Mrs', 'Ms']:\n",
    "        return 'English'\n",
    "    elif title in ['Sir', 'Lady', 'the Countess']:\n",
    "        return 'EnglishNoble'\n",
    "    elif title in ['Major', 'Col', 'Capt']:\n",
    "        return 'Military'   \n",
    "    elif title in ['Mlle', 'Mme', 'Don', 'Dona', 'Jonkheer']:\n",
    "        return 'OtherEuropean'\n",
    "    else:\n",
    "        return 'others'"
   ]
  },
  {
   "cell_type": "code",
   "execution_count": 129,
   "metadata": {},
   "outputs": [],
   "source": [
    "def make_one_hot(data, field):\n",
    "    temp = get_dummies(data[field], prefix=field)\n",
    "    data.drop(field, axis=1, inplace=True)\n",
    "    return concat([data, temp], axis=1)"
   ]
  },
  {
   "cell_type": "code",
   "execution_count": 130,
   "metadata": {},
   "outputs": [],
   "source": [
    "data.Embarked.fillna('blank', inplace=True)\n",
    "    \n",
    "data.Cabin.fillna('blank' , inplace=True)\n",
    "data.Cabin = data.Cabin.map(lambda a: a[0])\n",
    "    \n",
    "data['FamiySize'] = data.SibSp + data.Parch + 1\n",
    "    \n",
    "data.Name = data.Name.map(\n",
    "    lambda name: name.split(',')[1].split('.')[0].strip())\n",
    "    \n",
    "for i in ['Embarked', 'Cabin', 'Name']:\n",
    "    data = make_one_hot(data,i)\n",
    "    \n",
    "data['Sex'].replace({'male':1, 'female':0}, inplace=True)\n",
    "\n",
    "data.drop('Ticket', axis=1, inplace=True)"
   ]
  },
  {
   "cell_type": "code",
   "execution_count": 131,
   "metadata": {},
   "outputs": [
    {
     "name": "stdout",
     "output_type": "stream",
     "text": [
      "<class 'pandas.core.frame.DataFrame'>\n",
      "Int64Index: 1309 entries, 0 to 417\n",
      "Data columns (total 38 columns):\n",
      " #   Column             Non-Null Count  Dtype  \n",
      "---  ------             --------------  -----  \n",
      " 0   Pclass             1309 non-null   int64  \n",
      " 1   Sex                1309 non-null   int64  \n",
      " 2   Age                1046 non-null   float64\n",
      " 3   SibSp              1309 non-null   int64  \n",
      " 4   Parch              1309 non-null   int64  \n",
      " 5   Fare               1308 non-null   float64\n",
      " 6   FamiySize          1309 non-null   int64  \n",
      " 7   Embarked_C         1309 non-null   uint8  \n",
      " 8   Embarked_Q         1309 non-null   uint8  \n",
      " 9   Embarked_S         1309 non-null   uint8  \n",
      " 10  Embarked_blank     1309 non-null   uint8  \n",
      " 11  Cabin_A            1309 non-null   uint8  \n",
      " 12  Cabin_B            1309 non-null   uint8  \n",
      " 13  Cabin_C            1309 non-null   uint8  \n",
      " 14  Cabin_D            1309 non-null   uint8  \n",
      " 15  Cabin_E            1309 non-null   uint8  \n",
      " 16  Cabin_F            1309 non-null   uint8  \n",
      " 17  Cabin_G            1309 non-null   uint8  \n",
      " 18  Cabin_T            1309 non-null   uint8  \n",
      " 19  Cabin_b            1309 non-null   uint8  \n",
      " 20  Name_Capt          1309 non-null   uint8  \n",
      " 21  Name_Col           1309 non-null   uint8  \n",
      " 22  Name_Don           1309 non-null   uint8  \n",
      " 23  Name_Dona          1309 non-null   uint8  \n",
      " 24  Name_Dr            1309 non-null   uint8  \n",
      " 25  Name_Jonkheer      1309 non-null   uint8  \n",
      " 26  Name_Lady          1309 non-null   uint8  \n",
      " 27  Name_Major         1309 non-null   uint8  \n",
      " 28  Name_Master        1309 non-null   uint8  \n",
      " 29  Name_Miss          1309 non-null   uint8  \n",
      " 30  Name_Mlle          1309 non-null   uint8  \n",
      " 31  Name_Mme           1309 non-null   uint8  \n",
      " 32  Name_Mr            1309 non-null   uint8  \n",
      " 33  Name_Mrs           1309 non-null   uint8  \n",
      " 34  Name_Ms            1309 non-null   uint8  \n",
      " 35  Name_Rev           1309 non-null   uint8  \n",
      " 36  Name_Sir           1309 non-null   uint8  \n",
      " 37  Name_the Countess  1309 non-null   uint8  \n",
      "dtypes: float64(2), int64(5), uint8(31)\n",
      "memory usage: 121.4 KB\n"
     ]
    }
   ],
   "source": [
    "data.info()"
   ]
  },
  {
   "cell_type": "code",
   "execution_count": 133,
   "metadata": {},
   "outputs": [
    {
     "data": {
      "text/plain": [
       "0.9876543209876543"
      ]
     },
     "execution_count": 133,
     "metadata": {},
     "output_type": "execute_result"
    }
   ],
   "source": [
    "\n",
    "data = IterativeImputer().fit_transform(data)\n",
    "\n",
    "from sklearn.tree import DecisionTreeClassifier\n",
    "x_train , x_test = data[:len(train)], data[len(train):]\n",
    "cls_dt= DecisionTreeClassifier()\n",
    "cls_dt.fit(x_train, y_train)\n",
    "cls_dt.score(x_train, y_train)"
   ]
  },
  {
   "cell_type": "code",
   "execution_count": null,
   "metadata": {
    "scrolled": true
   },
   "outputs": [],
   "source": [
    "from sklearn.model_selection import cross_val_score\n",
    "from sklearn.neural_network import MLPClassifier\n",
    "\n",
    "data_scaled = scale(data)\n",
    "x_train , x_test = data_scaled[:len(train)], data_scaled[len(train):]\n",
    "\n",
    "cls_MLP = MLPClassifier(hidden_layer_sizes=len(x_train[0])*2, max_iter=1000)\n",
    "cls_MLP.fit(x_train,y_train)\n",
    "scores = cross_val_score(cls_MLP, x_train, y_train, cv=8)\n",
    "print(\"Accuracy: {:0.2f} (+/- {:0.2f})\".format(scores.mean(), scores.std() * 2))\n",
    "print(cls_MLP.score(x_train,y_train))\n",
    "\n",
    "predictions = cls_MLP.predict(x_test)\n",
    "df = DataFrame(data=list(zip(PassengerId, predictions)), columns=['PassengerId', 'Survived'])\n",
    "df.to_csv('submission.csv', index=False)\n",
    "\n"
   ]
  },
  {
   "cell_type": "code",
   "execution_count": null,
   "metadata": {},
   "outputs": [],
   "source": [
    "from sklearn.tree import DecisionTreeClassifier\n",
    "cls_dt= DecisionTreeClassifier()\n",
    "cls_dt.fit(x_tr, y_tr)\n",
    "cls_dt.score(x_ts, y_ts)"
   ]
  }
 ],
 "metadata": {
  "kernelspec": {
   "display_name": "Python 3",
   "language": "python",
   "name": "python3"
  },
  "language_info": {
   "codemirror_mode": {
    "name": "ipython",
    "version": 3
   },
   "file_extension": ".py",
   "mimetype": "text/x-python",
   "name": "python",
   "nbconvert_exporter": "python",
   "pygments_lexer": "ipython3",
   "version": "3.8.5"
  }
 },
 "nbformat": 4,
 "nbformat_minor": 4
}
